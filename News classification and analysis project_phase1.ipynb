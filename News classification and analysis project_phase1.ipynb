{
 "cells": [
  {
   "cell_type": "code",
   "execution_count": 1,
   "metadata": {},
   "outputs": [],
   "source": [
    "# Importing important Libraries\n",
    "import pandas as pd\n",
    "from bs4 import BeautifulSoup\n",
    "import requests\n",
    "import selenium\n",
    "from selenium import webdriver\n",
    "from selenium.webdriver.chrome.options import Options   \n",
    "from selenium.common.exceptions import InvalidSelectorException,NoSuchElementException\n",
    "import time\n",
    "from selenium .webdriver import ActionChains\n",
    "from selenium .webdriver.common.keys import Keys\n"
   ]
  },
  {
   "cell_type": "code",
   "execution_count": 2,
   "metadata": {},
   "outputs": [],
   "source": [
    "#Connecting to the web server\n",
    "driver=webdriver.Chrome(r\"C:/Users/Akshai/Downloads/chromedriver_win32 (1)/chromedriver.exe\")\n",
    "\n",
    "#specifying the web page\n",
    "driver.get(\"https://www.deccanherald.com\")\n",
    "\n",
    "#scrolling down to the page at the end\n",
    "driver.execute_script(\"window.scrollTo(0,document.body.scrollHeight)\")   #studied this on Pythonbasics.org\n",
    "time.sleep(3)\n",
    "\n",
    "#openeing the sitemap of the deccanherald.com page\n",
    "driver.find_element_by_xpath(\"//div[@class='newfooter_section_two_blocks_last']/ul[2]/li[4]/a\").click()"
   ]
  },
  {
   "cell_type": "code",
   "execution_count": 4,
   "metadata": {},
   "outputs": [],
   "source": [
    "#switiching focus to the new tab\n",
    "tab_1=driver.window_handles[1]         #studied this on tutorialpoints.com\n",
    "driver.switch_to.window(tab_1)"
   ]
  },
  {
   "cell_type": "code",
   "execution_count": 5,
   "metadata": {},
   "outputs": [],
   "source": [
    "#Opening the 2015 feburary stories page\n",
    "driver.find_element_by_xpath(\"//ul[@class='toplevel']/li[7]/ul/li[2]/a\").click()"
   ]
  },
  {
   "cell_type": "code",
   "execution_count": 6,
   "metadata": {},
   "outputs": [],
   "source": [
    "Date=[]\n",
    "Author=[]\n",
    "Vertical=[]\n",
    "Headline=[]\n",
    "Description=[]"
   ]
  },
  {
   "cell_type": "code",
   "execution_count": 7,
   "metadata": {},
   "outputs": [],
   "source": [
    "#opening 1st feb news\n",
    "driver.find_element_by_xpath(\"//ul[@class='taxonomy-tree children']/li[1]/a\").click()"
   ]
  },
  {
   "cell_type": "code",
   "execution_count": 14,
   "metadata": {},
   "outputs": [],
   "source": [
    "#function to scrape web_element\n",
    "\n",
    "def myscrape():\n",
    "    \n",
    "    try:\n",
    "        \n",
    "        txt=driver.find_element_by_xpath(\"//ul[@class='crud-items']/li[1]\").text\n",
    "        a=txt.split(',')[0]\n",
    "        #print(a)\n",
    "        Date.append(a)\n",
    "    except NoSuchElementException as e:\n",
    "        Date.append(\"-\")\n",
    "        #print(\"------\")\n",
    "        \n",
    "    try:    \n",
    "        Verti=driver.find_element_by_xpath(\"//div[@class='item-list']/ul/li[2]/a\").text\n",
    "        Vertical.append(Verti)\n",
    "        #print(Verti)\n",
    "        \n",
    "    except NoSuchElementException as e:\n",
    "         Vertical.append(\"-\")\n",
    "         #print(\"------\")\n",
    "\n",
    "    try:\n",
    "        \n",
    "        Head=driver.find_element_by_xpath(\"//div[@class='strap-heading-wrapper']/h1\").text\n",
    "        Headline.append(Head)\n",
    "        #print(Head)\n",
    "        \n",
    "    except NoSuchElementException as e:\n",
    "        HeadLine.append(\"-\")\n",
    "        #print(\"------\")\n",
    "\n",
    "\n",
    "    try:\n",
    "        \n",
    "        Desp=driver.find_element_by_xpath(\"//div[@class='field-item even']/p[1]\").text\n",
    "        Description.append(Desp)\n",
    "        #print(Desp)\n",
    "        \n",
    "    except NoSuchElementException as e:\n",
    "        Description.append(\"-\")\n",
    "        #print(\"------\")\n",
    "    \n",
    "    \n",
    "    try:\n",
    "        \n",
    "        auth=driver.find_element_by_xpath(\"//div[@class='article-author__time']/span\").text\n",
    "        Author.append(auth)\n",
    "        #print(auth)\n",
    "    except NoSuchElementException as e:\n",
    "        Author.append(\"-\")\n",
    "        #print(\"------\")\n",
    "    \n",
    "    driver.close()\n",
    "    \n",
    "    \n",
    "    \n",
    "    #switiching focus to the new tab\n",
    "    tab_1=driver.window_handles[2]         \n",
    "    driver.switch_to.window(tab_1)\n",
    "  \n"
   ]
  },
  {
   "cell_type": "markdown",
   "metadata": {},
   "source": [
    "# Scraping 1st feb 2015 news"
   ]
  },
  {
   "cell_type": "code",
   "execution_count": 17,
   "metadata": {},
   "outputs": [],
   "source": [
    "elem_1=driver.find_elements_by_xpath(\"//li[@class='group sanspro-reg archives-note']/a\")\n",
    "\n",
    "j=1\n",
    "for i in elem_1[0:165]:\n",
    "    act=ActionChains(driver)\n",
    "    act.context_click(i).key_down(Keys.CONTROL).click(i).perform()\n",
    "    \n",
    "    #switiching focus to the new tab\n",
    "    tab_2=driver.window_handles[j+1]         #studied this on tutorialpoints.com\n",
    "    driver.switch_to.window(tab_2)\n",
    "    \n",
    "    myscrape()\n",
    "  \n",
    "    "
   ]
  },
  {
   "cell_type": "code",
   "execution_count": null,
   "metadata": {},
   "outputs": [],
   "source": [
    "#going back to the 2015 stories page\n",
    "driver.close()"
   ]
  },
  {
   "cell_type": "code",
   "execution_count": 18,
   "metadata": {},
   "outputs": [
    {
     "name": "stdout",
     "output_type": "stream",
     "text": [
      "165 165 165 165 165\n"
     ]
    }
   ],
   "source": [
    "#checking the lenght of each list\n",
    "print(len(Date),len(Author),len(Vertical),len(Headline),len(Description))"
   ]
  },
  {
   "cell_type": "markdown",
   "metadata": {},
   "source": [
    "# Scraping 2nd feb 2015 news"
   ]
  },
  {
   "cell_type": "code",
   "execution_count": 33,
   "metadata": {},
   "outputs": [],
   "source": [
    "#opening 2nd feb news\n",
    "driver.find_element_by_xpath(\"//ul[@class='taxonomy-tree children']/li[2]/a\").click()\n",
    "\n",
    "#switiching focus to the new tab\n",
    "tab_1=driver.window_handles[2]         #studied this on tutorialpoints.com\n",
    "driver.switch_to.window(tab_1)"
   ]
  },
  {
   "cell_type": "code",
   "execution_count": 36,
   "metadata": {},
   "outputs": [],
   "source": [
    "elem_2=driver.find_elements_by_xpath(\"//li[@class='group sanspro-reg archives-note']/a\")\n",
    "\n",
    "j=2\n",
    "for i in elem_2[0:178]:\n",
    "    act=ActionChains(driver)\n",
    "    act.context_click(i).key_down(Keys.CONTROL).click(i).perform()\n",
    "    \n",
    "    #switiching focus to the new tab\n",
    "    tab_2=driver.window_handles[j+1]         #studied this on tutorialpoints.com\n",
    "    driver.switch_to.window(tab_2)\n",
    "    \n",
    "    myscrape()"
   ]
  },
  {
   "cell_type": "code",
   "execution_count": 41,
   "metadata": {},
   "outputs": [],
   "source": [
    "#switiching focus to 2015 feb storeies\n",
    "tab_1=driver.window_handles[1]         \n",
    "driver.switch_to.window(tab_1)"
   ]
  },
  {
   "cell_type": "code",
   "execution_count": 37,
   "metadata": {},
   "outputs": [
    {
     "name": "stdout",
     "output_type": "stream",
     "text": [
      "343 343 343 343 343\n"
     ]
    }
   ],
   "source": [
    "#checking the lenght of each list\n",
    "print(len(Date),len(Author),len(Vertical),len(Headline),len(Description))"
   ]
  },
  {
   "cell_type": "markdown",
   "metadata": {},
   "source": [
    "# Scraping 3rd feb 2015 news"
   ]
  },
  {
   "cell_type": "code",
   "execution_count": 69,
   "metadata": {},
   "outputs": [],
   "source": [
    "#opening 3rd feb news\n",
    "driver.find_element_by_xpath(\"//ul[@class='taxonomy-tree children']/li[3]/a\").click()\n",
    "\n",
    "#switiching focus to the new tab\n",
    "tab_1=driver.window_handles[2]         \n",
    "driver.switch_to.window(tab_1)"
   ]
  },
  {
   "cell_type": "code",
   "execution_count": 73,
   "metadata": {},
   "outputs": [],
   "source": [
    "elem_3=driver.find_elements_by_xpath(\"//li[@class='group sanspro-reg archives-note']/a\")\n",
    "\n",
    "j=2\n",
    "for i in elem_3[0:186]:\n",
    "    act=ActionChains(driver)\n",
    "    act.context_click(i).key_down(Keys.CONTROL).click(i).perform()\n",
    "    \n",
    "    #switiching focus to the new tab\n",
    "    tab_2=driver.window_handles[j+1]         #studied this on tutorialpoints.com\n",
    "    driver.switch_to.window(tab_2)\n",
    "    \n",
    "    myscrape()"
   ]
  },
  {
   "cell_type": "code",
   "execution_count": 74,
   "metadata": {},
   "outputs": [
    {
     "name": "stdout",
     "output_type": "stream",
     "text": [
      "527 527 527 527 527\n"
     ]
    }
   ],
   "source": [
    "#checking the lenght of each list\n",
    "print(len(Date),len(Author),len(Vertical),len(Headline),len(Description))"
   ]
  },
  {
   "cell_type": "code",
   "execution_count": 75,
   "metadata": {},
   "outputs": [],
   "source": [
    "driver.close()"
   ]
  },
  {
   "cell_type": "code",
   "execution_count": 77,
   "metadata": {},
   "outputs": [],
   "source": [
    "#switiching focus to 2015 feb storeies\n",
    "tab_1=driver.window_handles[1]         \n",
    "driver.switch_to.window(tab_1)"
   ]
  },
  {
   "cell_type": "markdown",
   "metadata": {},
   "source": [
    "# Scraping 4th feb 2015 news"
   ]
  },
  {
   "cell_type": "code",
   "execution_count": 78,
   "metadata": {},
   "outputs": [],
   "source": [
    "#opening 4rd feb news\n",
    "driver.find_element_by_xpath(\"//ul[@class='taxonomy-tree children']/li[4]/a\").click()\n",
    "\n",
    "#switiching focus to the new tab\n",
    "tab_1=driver.window_handles[2]         \n",
    "driver.switch_to.window(tab_1)"
   ]
  },
  {
   "cell_type": "code",
   "execution_count": 79,
   "metadata": {},
   "outputs": [],
   "source": [
    "elem_4=driver.find_elements_by_xpath(\"//li[@class='group sanspro-reg archives-note']/a\")"
   ]
  },
  {
   "cell_type": "code",
   "execution_count": 80,
   "metadata": {},
   "outputs": [
    {
     "data": {
      "text/plain": [
       "182"
      ]
     },
     "execution_count": 80,
     "metadata": {},
     "output_type": "execute_result"
    }
   ],
   "source": [
    "len(elem_4)"
   ]
  },
  {
   "cell_type": "code",
   "execution_count": 81,
   "metadata": {},
   "outputs": [],
   "source": [
    "j=2\n",
    "for i in elem_4[0:182]:\n",
    "    act=ActionChains(driver)\n",
    "    act.context_click(i).key_down(Keys.CONTROL).click(i).perform()\n",
    "    \n",
    "    #switiching focus to the new tab\n",
    "    tab_2=driver.window_handles[j+1]         #studied this on tutorialpoints.com\n",
    "    driver.switch_to.window(tab_2)\n",
    "    \n",
    "    myscrape()"
   ]
  },
  {
   "cell_type": "code",
   "execution_count": 82,
   "metadata": {},
   "outputs": [],
   "source": [
    "driver.close()"
   ]
  },
  {
   "cell_type": "code",
   "execution_count": 85,
   "metadata": {},
   "outputs": [
    {
     "name": "stdout",
     "output_type": "stream",
     "text": [
      "709 709 709 709 709\n"
     ]
    }
   ],
   "source": [
    "#checking the lenght of each list\n",
    "print(len(Date),len(Author),len(Vertical),len(Headline),len(Description))"
   ]
  },
  {
   "cell_type": "code",
   "execution_count": 83,
   "metadata": {},
   "outputs": [],
   "source": [
    "#switiching focus to 2015 feb storeies\n",
    "tab_1=driver.window_handles[1]         \n",
    "driver.switch_to.window(tab_1)"
   ]
  },
  {
   "cell_type": "markdown",
   "metadata": {},
   "source": [
    "# Scraping 5th feb 2015 news"
   ]
  },
  {
   "cell_type": "code",
   "execution_count": 84,
   "metadata": {},
   "outputs": [],
   "source": [
    "#opening 5th feb news\n",
    "driver.find_element_by_xpath(\"//ul[@class='taxonomy-tree children']/li[5]/a\").click()\n",
    "\n",
    "#switiching focus to the new tab\n",
    "tab_1=driver.window_handles[2]         \n",
    "driver.switch_to.window(tab_1)"
   ]
  },
  {
   "cell_type": "code",
   "execution_count": 86,
   "metadata": {},
   "outputs": [],
   "source": [
    "elem_5=driver.find_elements_by_xpath(\"//li[@class='group sanspro-reg archives-note']/a\")"
   ]
  },
  {
   "cell_type": "code",
   "execution_count": 87,
   "metadata": {},
   "outputs": [
    {
     "data": {
      "text/plain": [
       "224"
      ]
     },
     "execution_count": 87,
     "metadata": {},
     "output_type": "execute_result"
    }
   ],
   "source": [
    "len(elem_5)"
   ]
  },
  {
   "cell_type": "code",
   "execution_count": 93,
   "metadata": {},
   "outputs": [],
   "source": [
    "j=2\n",
    "for i in elem_5[0:224]:\n",
    "    act=ActionChains(driver)\n",
    "    act.context_click(i).key_down(Keys.CONTROL).click(i).perform()\n",
    "    \n",
    "    #switiching focus to the new tab\n",
    "    tab_2=driver.window_handles[j+1]         #studied this on tutorialpoints.com\n",
    "    driver.switch_to.window(tab_2)\n",
    "    \n",
    "    myscrape()"
   ]
  },
  {
   "cell_type": "code",
   "execution_count": 103,
   "metadata": {},
   "outputs": [],
   "source": [
    "driver.close()"
   ]
  },
  {
   "cell_type": "code",
   "execution_count": 104,
   "metadata": {},
   "outputs": [
    {
     "name": "stdout",
     "output_type": "stream",
     "text": [
      "931 931 931 931 931\n"
     ]
    }
   ],
   "source": [
    "#checking the lenght of each list\n",
    "print(len(Date),len(Author),len(Vertical),len(Headline),len(Description))"
   ]
  },
  {
   "cell_type": "code",
   "execution_count": 105,
   "metadata": {},
   "outputs": [],
   "source": [
    "#switiching focus to 2015 feb storeies\n",
    "tab_1=driver.window_handles[1]         \n",
    "driver.switch_to.window(tab_1)"
   ]
  },
  {
   "cell_type": "markdown",
   "metadata": {},
   "source": [
    "# Scraping 6th feb 2015 news"
   ]
  },
  {
   "cell_type": "code",
   "execution_count": 106,
   "metadata": {},
   "outputs": [],
   "source": [
    "#opening 6th feb news\n",
    "driver.find_element_by_xpath(\"//ul[@class='taxonomy-tree children']/li[6]/a\").click()\n",
    "\n",
    "#switiching focus to the new tab\n",
    "tab_1=driver.window_handles[2]         \n",
    "driver.switch_to.window(tab_1)"
   ]
  },
  {
   "cell_type": "code",
   "execution_count": 107,
   "metadata": {},
   "outputs": [],
   "source": [
    "elem_6=driver.find_elements_by_xpath(\"//li[@class='group sanspro-reg archives-note']/a\")"
   ]
  },
  {
   "cell_type": "code",
   "execution_count": 108,
   "metadata": {},
   "outputs": [
    {
     "data": {
      "text/plain": [
       "161"
      ]
     },
     "execution_count": 108,
     "metadata": {},
     "output_type": "execute_result"
    }
   ],
   "source": [
    "len(elem_6)"
   ]
  },
  {
   "cell_type": "code",
   "execution_count": 109,
   "metadata": {},
   "outputs": [],
   "source": [
    "j=2\n",
    "for i in elem_6[0:161]:\n",
    "    act=ActionChains(driver)\n",
    "    act.context_click(i).key_down(Keys.CONTROL).click(i).perform()\n",
    "    \n",
    "    #switiching focus to the new tab\n",
    "    tab_2=driver.window_handles[j+1]         #studied this on tutorialpoints.com\n",
    "    driver.switch_to.window(tab_2)\n",
    "    \n",
    "    myscrape()"
   ]
  },
  {
   "cell_type": "code",
   "execution_count": 111,
   "metadata": {},
   "outputs": [],
   "source": [
    "driver.close()"
   ]
  },
  {
   "cell_type": "code",
   "execution_count": 110,
   "metadata": {},
   "outputs": [
    {
     "name": "stdout",
     "output_type": "stream",
     "text": [
      "1092 1092 1092 1092 1092\n"
     ]
    }
   ],
   "source": [
    "#checking the lenght of each list\n",
    "print(len(Date),len(Author),len(Vertical),len(Headline),len(Description))"
   ]
  },
  {
   "cell_type": "code",
   "execution_count": 112,
   "metadata": {},
   "outputs": [],
   "source": [
    "#switiching focus to 2015 feb storeies\n",
    "tab_1=driver.window_handles[1]         \n",
    "driver.switch_to.window(tab_1)"
   ]
  },
  {
   "cell_type": "markdown",
   "metadata": {},
   "source": [
    "# Scraping 7th feb 2015 news"
   ]
  },
  {
   "cell_type": "code",
   "execution_count": 113,
   "metadata": {},
   "outputs": [],
   "source": [
    "#opening 7th feb news\n",
    "driver.find_element_by_xpath(\"//ul[@class='taxonomy-tree children']/li[7]/a\").click()\n",
    "\n",
    "#switiching focus to the new tab\n",
    "tab_1=driver.window_handles[2]         \n",
    "driver.switch_to.window(tab_1)"
   ]
  },
  {
   "cell_type": "code",
   "execution_count": 114,
   "metadata": {},
   "outputs": [],
   "source": [
    "elem_7=driver.find_elements_by_xpath(\"//li[@class='group sanspro-reg archives-note']/a\")"
   ]
  },
  {
   "cell_type": "code",
   "execution_count": 115,
   "metadata": {},
   "outputs": [
    {
     "data": {
      "text/plain": [
       "145"
      ]
     },
     "execution_count": 115,
     "metadata": {},
     "output_type": "execute_result"
    }
   ],
   "source": [
    "len(elem_7)"
   ]
  },
  {
   "cell_type": "code",
   "execution_count": 116,
   "metadata": {},
   "outputs": [],
   "source": [
    "j=2\n",
    "for i in elem_7[0:145]:\n",
    "    act=ActionChains(driver)\n",
    "    act.context_click(i).key_down(Keys.CONTROL).click(i).perform()\n",
    "    \n",
    "    #switiching focus to the new tab\n",
    "    tab_2=driver.window_handles[j+1]         #studied this on tutorialpoints.com\n",
    "    driver.switch_to.window(tab_2)\n",
    "    \n",
    "    myscrape()\n"
   ]
  },
  {
   "cell_type": "code",
   "execution_count": 123,
   "metadata": {},
   "outputs": [],
   "source": [
    "driver.close()"
   ]
  },
  {
   "cell_type": "code",
   "execution_count": 134,
   "metadata": {},
   "outputs": [
    {
     "name": "stdout",
     "output_type": "stream",
     "text": [
      "1237 1237 1237 1237 1237\n"
     ]
    }
   ],
   "source": [
    "#checking the lenght of each list\n",
    "print(len(Date),len(Author),len(Vertical),len(Headline),len(Description))"
   ]
  },
  {
   "cell_type": "code",
   "execution_count": 135,
   "metadata": {},
   "outputs": [],
   "source": [
    "#switiching focus to 2015 feb storeies\n",
    "tab_1=driver.window_handles[1]         \n",
    "driver.switch_to.window(tab_1)"
   ]
  },
  {
   "cell_type": "markdown",
   "metadata": {},
   "source": [
    "# Scraping 8th feb 2015 news"
   ]
  },
  {
   "cell_type": "code",
   "execution_count": 136,
   "metadata": {},
   "outputs": [],
   "source": [
    "#opening 8th feb news\n",
    "driver.find_element_by_xpath(\"//ul[@class='taxonomy-tree children']/li[8]/a\").click()\n",
    "\n",
    "#switiching focus to the new tab\n",
    "tab_1=driver.window_handles[2]         \n",
    "driver.switch_to.window(tab_1)"
   ]
  },
  {
   "cell_type": "code",
   "execution_count": 137,
   "metadata": {},
   "outputs": [],
   "source": [
    "elem_8=driver.find_elements_by_xpath(\"//li[@class='group sanspro-reg archives-note']/a\")"
   ]
  },
  {
   "cell_type": "code",
   "execution_count": 138,
   "metadata": {},
   "outputs": [
    {
     "data": {
      "text/plain": [
       "150"
      ]
     },
     "execution_count": 138,
     "metadata": {},
     "output_type": "execute_result"
    }
   ],
   "source": [
    "len(elem_8)"
   ]
  },
  {
   "cell_type": "code",
   "execution_count": 139,
   "metadata": {},
   "outputs": [],
   "source": [
    "j=2\n",
    "for i in elem_8[0:150]:\n",
    "    act=ActionChains(driver)\n",
    "    act.context_click(i).key_down(Keys.CONTROL).click(i).perform()\n",
    "    \n",
    "    #switiching focus to the new tab\n",
    "    tab_2=driver.window_handles[j+1]         #studied this on tutorialpoints.com\n",
    "    driver.switch_to.window(tab_2)\n",
    "    \n",
    "    myscrape()\n",
    "  \n"
   ]
  },
  {
   "cell_type": "code",
   "execution_count": 140,
   "metadata": {},
   "outputs": [],
   "source": [
    "driver.close()"
   ]
  },
  {
   "cell_type": "code",
   "execution_count": 141,
   "metadata": {},
   "outputs": [
    {
     "name": "stdout",
     "output_type": "stream",
     "text": [
      "1387 1387 1387 1387 1387\n"
     ]
    }
   ],
   "source": [
    "#checking the lenght of each list\n",
    "print(len(Date),len(Author),len(Vertical),len(Headline),len(Description))"
   ]
  },
  {
   "cell_type": "code",
   "execution_count": 142,
   "metadata": {},
   "outputs": [],
   "source": [
    "#switiching focus to 2015 feb storeies\n",
    "tab_1=driver.window_handles[1]         \n",
    "driver.switch_to.window(tab_1)"
   ]
  },
  {
   "cell_type": "markdown",
   "metadata": {},
   "source": [
    "# Scraping 9th feb 2015 news"
   ]
  },
  {
   "cell_type": "code",
   "execution_count": 143,
   "metadata": {},
   "outputs": [],
   "source": [
    "#opening 9th feb news\n",
    "driver.find_element_by_xpath(\"//ul[@class='taxonomy-tree children']/li[9]/a\").click()\n",
    "\n",
    "#switiching focus to the new tab\n",
    "tab_1=driver.window_handles[2]         \n",
    "driver.switch_to.window(tab_1)"
   ]
  },
  {
   "cell_type": "code",
   "execution_count": 144,
   "metadata": {},
   "outputs": [],
   "source": [
    "elem_9=driver.find_elements_by_xpath(\"//li[@class='group sanspro-reg archives-note']/a\")"
   ]
  },
  {
   "cell_type": "code",
   "execution_count": 145,
   "metadata": {},
   "outputs": [
    {
     "data": {
      "text/plain": [
       "180"
      ]
     },
     "execution_count": 145,
     "metadata": {},
     "output_type": "execute_result"
    }
   ],
   "source": [
    "len(elem_9)"
   ]
  },
  {
   "cell_type": "code",
   "execution_count": 146,
   "metadata": {},
   "outputs": [],
   "source": [
    "j=2\n",
    "for i in elem_9[0:180]:\n",
    "    act=ActionChains(driver)\n",
    "    act.context_click(i).key_down(Keys.CONTROL).click(i).perform()\n",
    "    \n",
    "    #switiching focus to the new tab\n",
    "    tab_2=driver.window_handles[j+1]         #studied this on tutorialpoints.com\n",
    "    driver.switch_to.window(tab_2)\n",
    "    \n",
    "    myscrape()"
   ]
  },
  {
   "cell_type": "code",
   "execution_count": 147,
   "metadata": {},
   "outputs": [],
   "source": [
    "driver.close()"
   ]
  },
  {
   "cell_type": "code",
   "execution_count": 148,
   "metadata": {},
   "outputs": [
    {
     "name": "stdout",
     "output_type": "stream",
     "text": [
      "1567 1567 1567 1567 1567\n"
     ]
    }
   ],
   "source": [
    "#checking the lenght of each list\n",
    "print(len(Date),len(Author),len(Vertical),len(Headline),len(Description))"
   ]
  },
  {
   "cell_type": "code",
   "execution_count": 149,
   "metadata": {},
   "outputs": [],
   "source": [
    "#switiching focus to 2015 feb storeies\n",
    "tab_1=driver.window_handles[1]         \n",
    "driver.switch_to.window(tab_1)"
   ]
  },
  {
   "cell_type": "markdown",
   "metadata": {},
   "source": [
    "# Scraping 10th feb 2015 news"
   ]
  },
  {
   "cell_type": "code",
   "execution_count": 150,
   "metadata": {},
   "outputs": [],
   "source": [
    "#opening 10th feb news\n",
    "driver.find_element_by_xpath(\"//ul[@class='taxonomy-tree children']/li[10]/a\").click()\n",
    "\n",
    "#switiching focus to the new tab\n",
    "tab_1=driver.window_handles[2]         \n",
    "driver.switch_to.window(tab_1)"
   ]
  },
  {
   "cell_type": "code",
   "execution_count": 151,
   "metadata": {},
   "outputs": [],
   "source": [
    "elem_10=driver.find_elements_by_xpath(\"//li[@class='group sanspro-reg archives-note']/a\")"
   ]
  },
  {
   "cell_type": "code",
   "execution_count": 153,
   "metadata": {},
   "outputs": [
    {
     "data": {
      "text/plain": [
       "189"
      ]
     },
     "execution_count": 153,
     "metadata": {},
     "output_type": "execute_result"
    }
   ],
   "source": [
    "len(elem_10)"
   ]
  },
  {
   "cell_type": "code",
   "execution_count": 157,
   "metadata": {},
   "outputs": [],
   "source": [
    "j=2\n",
    "for i in elem_10[0:189]:\n",
    "    act=ActionChains(driver)\n",
    "    act.context_click(i).key_down(Keys.CONTROL).click(i).perform()\n",
    "    \n",
    "    #switiching focus to the new tab\n",
    "    tab_2=driver.window_handles[j+1]         \n",
    "    driver.switch_to.window(tab_2)\n",
    "    \n",
    "    myscrape()"
   ]
  },
  {
   "cell_type": "code",
   "execution_count": 164,
   "metadata": {},
   "outputs": [
    {
     "name": "stdout",
     "output_type": "stream",
     "text": [
      "1754 1754 1754 1754 1754\n"
     ]
    }
   ],
   "source": [
    "#checking the lenght of each list\n",
    "print(len(Date),len(Author),len(Vertical),len(Headline),len(Description))"
   ]
  },
  {
   "cell_type": "code",
   "execution_count": 165,
   "metadata": {},
   "outputs": [],
   "source": [
    "driver.close()"
   ]
  },
  {
   "cell_type": "markdown",
   "metadata": {},
   "source": [
    "# Scraping 11th feb 2015 news"
   ]
  },
  {
   "cell_type": "code",
   "execution_count": 20,
   "metadata": {},
   "outputs": [],
   "source": [
    "#opening 11th feb news\n",
    "driver.find_element_by_xpath(\"//ul[@class='taxonomy-tree children']/li[11]/a\").click()\n",
    "\n",
    "#switiching focus to the new tab\n",
    "tab_1=driver.window_handles[2]         \n",
    "driver.switch_to.window(tab_1)"
   ]
  },
  {
   "cell_type": "code",
   "execution_count": 21,
   "metadata": {},
   "outputs": [],
   "source": [
    "elem_11=driver.find_elements_by_xpath(\"//li[@class='group sanspro-reg archives-note']/a\")"
   ]
  },
  {
   "cell_type": "code",
   "execution_count": 22,
   "metadata": {},
   "outputs": [
    {
     "data": {
      "text/plain": [
       "194"
      ]
     },
     "execution_count": 22,
     "metadata": {},
     "output_type": "execute_result"
    }
   ],
   "source": [
    "len(elem_11)"
   ]
  },
  {
   "cell_type": "code",
   "execution_count": 31,
   "metadata": {},
   "outputs": [],
   "source": [
    "j=2\n",
    "for i in elem_11[0:194]:\n",
    "    act=ActionChains(driver)\n",
    "    act.context_click(i).key_down(Keys.CONTROL).click(i).perform()\n",
    "    \n",
    "    #switiching focus to the new tab\n",
    "    tab_2=driver.window_handles[j+1]         \n",
    "    driver.switch_to.window(tab_2)\n",
    "    \n",
    "    myscrape()"
   ]
  },
  {
   "cell_type": "code",
   "execution_count": 36,
   "metadata": {},
   "outputs": [],
   "source": [
    "driver.close()"
   ]
  },
  {
   "cell_type": "code",
   "execution_count": 35,
   "metadata": {},
   "outputs": [
    {
     "name": "stdout",
     "output_type": "stream",
     "text": [
      "193 193 193 193 193\n"
     ]
    }
   ],
   "source": [
    "#checking the lenght of each list\n",
    "print(len(Date),len(Author),len(Vertical),len(Headline),len(Description))"
   ]
  },
  {
   "cell_type": "code",
   "execution_count": 37,
   "metadata": {},
   "outputs": [],
   "source": [
    "#switiching focus to 2015 feb storeies\n",
    "tab_1=driver.window_handles[1]         \n",
    "driver.switch_to.window(tab_1)"
   ]
  },
  {
   "cell_type": "markdown",
   "metadata": {},
   "source": [
    "# Scraping 12th feb 2015 news"
   ]
  },
  {
   "cell_type": "code",
   "execution_count": 53,
   "metadata": {},
   "outputs": [],
   "source": [
    "#opening 12th feb news\n",
    "driver.find_element_by_xpath(\"//ul[@class='taxonomy-tree children']/li[12]/a\").click()\n",
    "\n",
    "#switiching focus to the new tab\n",
    "tab_1=driver.window_handles[2]         \n",
    "driver.switch_to.window(tab_1)"
   ]
  },
  {
   "cell_type": "code",
   "execution_count": 54,
   "metadata": {},
   "outputs": [],
   "source": [
    "elem_12=driver.find_elements_by_xpath(\"//li[@class='group sanspro-reg archives-note']/a\")"
   ]
  },
  {
   "cell_type": "code",
   "execution_count": 55,
   "metadata": {},
   "outputs": [
    {
     "data": {
      "text/plain": [
       "184"
      ]
     },
     "execution_count": 55,
     "metadata": {},
     "output_type": "execute_result"
    }
   ],
   "source": [
    "len(elem_12)"
   ]
  },
  {
   "cell_type": "code",
   "execution_count": 56,
   "metadata": {},
   "outputs": [],
   "source": [
    "j=2\n",
    "for i in elem_12[0:184]:\n",
    "    act=ActionChains(driver)\n",
    "    act.context_click(i).key_down(Keys.CONTROL).click(i).perform()\n",
    "    \n",
    "    #switiching focus to the new tab\n",
    "    tab_2=driver.window_handles[j+1]         \n",
    "    driver.switch_to.window(tab_2)\n",
    "    \n",
    "    myscrape()"
   ]
  },
  {
   "cell_type": "code",
   "execution_count": 57,
   "metadata": {},
   "outputs": [],
   "source": [
    "driver.close()"
   ]
  },
  {
   "cell_type": "code",
   "execution_count": 58,
   "metadata": {},
   "outputs": [
    {
     "name": "stdout",
     "output_type": "stream",
     "text": [
      "377 377 377 377 377\n"
     ]
    }
   ],
   "source": [
    "#checking the lenght of each list\n",
    "print(len(Date),len(Author),len(Vertical),len(Headline),len(Description))"
   ]
  },
  {
   "cell_type": "code",
   "execution_count": 59,
   "metadata": {},
   "outputs": [],
   "source": [
    "#switiching focus to 2015 feb storeies\n",
    "tab_1=driver.window_handles[1]         \n",
    "driver.switch_to.window(tab_1)"
   ]
  },
  {
   "cell_type": "markdown",
   "metadata": {},
   "source": [
    "# Scraping 13th feb 2015 news"
   ]
  },
  {
   "cell_type": "code",
   "execution_count": 60,
   "metadata": {},
   "outputs": [],
   "source": [
    "#opening 13th feb news\n",
    "driver.find_element_by_xpath(\"//ul[@class='taxonomy-tree children']/li[13]/a\").click()\n",
    "\n",
    "#switiching focus to the new tab\n",
    "tab_1=driver.window_handles[2]         \n",
    "driver.switch_to.window(tab_1)"
   ]
  },
  {
   "cell_type": "code",
   "execution_count": 61,
   "metadata": {},
   "outputs": [],
   "source": [
    "elem_13=driver.find_elements_by_xpath(\"//li[@class='group sanspro-reg archives-note']/a\")"
   ]
  },
  {
   "cell_type": "code",
   "execution_count": 62,
   "metadata": {},
   "outputs": [
    {
     "data": {
      "text/plain": [
       "176"
      ]
     },
     "execution_count": 62,
     "metadata": {},
     "output_type": "execute_result"
    }
   ],
   "source": [
    "len(elem_13)"
   ]
  },
  {
   "cell_type": "code",
   "execution_count": 63,
   "metadata": {},
   "outputs": [],
   "source": [
    "j=2\n",
    "for i in elem_13[0:176]:\n",
    "    act=ActionChains(driver)\n",
    "    act.context_click(i).key_down(Keys.CONTROL).click(i).perform()\n",
    "    \n",
    "    #switiching focus to the new tab\n",
    "    tab_2=driver.window_handles[j+1]         \n",
    "    driver.switch_to.window(tab_2)\n",
    "    \n",
    "    myscrape()"
   ]
  },
  {
   "cell_type": "code",
   "execution_count": 65,
   "metadata": {},
   "outputs": [],
   "source": [
    "driver.close()"
   ]
  },
  {
   "cell_type": "code",
   "execution_count": 66,
   "metadata": {},
   "outputs": [
    {
     "name": "stdout",
     "output_type": "stream",
     "text": [
      "553 553 553 553 553\n"
     ]
    }
   ],
   "source": [
    "#checking the lenght of each list\n",
    "print(len(Date),len(Author),len(Vertical),len(Headline),len(Description))"
   ]
  },
  {
   "cell_type": "code",
   "execution_count": 70,
   "metadata": {},
   "outputs": [],
   "source": [
    "#switiching focus to 2015 feb storeies\n",
    "tab_1=driver.window_handles[1]         \n",
    "driver.switch_to.window(tab_1)"
   ]
  },
  {
   "cell_type": "markdown",
   "metadata": {},
   "source": [
    "# Scraping 14th feb 2015 news"
   ]
  },
  {
   "cell_type": "code",
   "execution_count": 71,
   "metadata": {},
   "outputs": [],
   "source": [
    "#opening 14th feb news\n",
    "driver.find_element_by_xpath(\"//ul[@class='taxonomy-tree children']/li[14]/a\").click()\n",
    "\n",
    "#switiching focus to the new tab\n",
    "tab_1=driver.window_handles[2]         \n",
    "driver.switch_to.window(tab_1)"
   ]
  },
  {
   "cell_type": "code",
   "execution_count": 72,
   "metadata": {},
   "outputs": [],
   "source": [
    "elem_14=driver.find_elements_by_xpath(\"//li[@class='group sanspro-reg archives-note']/a\")"
   ]
  },
  {
   "cell_type": "code",
   "execution_count": 73,
   "metadata": {},
   "outputs": [
    {
     "data": {
      "text/plain": [
       "148"
      ]
     },
     "execution_count": 73,
     "metadata": {},
     "output_type": "execute_result"
    }
   ],
   "source": [
    "len(elem_14)"
   ]
  },
  {
   "cell_type": "code",
   "execution_count": 74,
   "metadata": {},
   "outputs": [],
   "source": [
    "j=2\n",
    "for i in elem_14[0:148]:\n",
    "    act=ActionChains(driver)\n",
    "    act.context_click(i).key_down(Keys.CONTROL).click(i).perform()\n",
    "    \n",
    "    #switiching focus to the new tab\n",
    "    tab_2=driver.window_handles[j+1]         \n",
    "    driver.switch_to.window(tab_2)\n",
    "    \n",
    "    myscrape()"
   ]
  },
  {
   "cell_type": "code",
   "execution_count": 139,
   "metadata": {},
   "outputs": [],
   "source": [
    "driver.close()"
   ]
  },
  {
   "cell_type": "code",
   "execution_count": 10,
   "metadata": {},
   "outputs": [
    {
     "name": "stdout",
     "output_type": "stream",
     "text": [
      "0 0 0 0 0\n"
     ]
    }
   ],
   "source": [
    "#checking the lenght of each list\n",
    "print(len(Date),len(Author),len(Vertical),len(Headline),len(Description))"
   ]
  },
  {
   "cell_type": "code",
   "execution_count": 39,
   "metadata": {},
   "outputs": [],
   "source": [
    "#switiching focus to 2015 feb storeies\n",
    "tab_1=driver.window_handles[1]         \n",
    "driver.switch_to.window(tab_1)"
   ]
  },
  {
   "cell_type": "markdown",
   "metadata": {},
   "source": [
    "# Scraping 15th feb 2015 news"
   ]
  },
  {
   "cell_type": "code",
   "execution_count": 143,
   "metadata": {},
   "outputs": [
    {
     "name": "stdout",
     "output_type": "stream",
     "text": [
      "142\n",
      "843 843 843 843 843\n"
     ]
    }
   ],
   "source": [
    "#opening 15th feb news\n",
    "driver.find_element_by_xpath(\"//ul[@class='taxonomy-tree children']/li[15]/a\").click()\n",
    "\n",
    "#switiching focus to the new tab\n",
    "tab_1=driver.window_handles[2]         \n",
    "driver.switch_to.window(tab_1)\n",
    "\n",
    "\n",
    "elem_15=driver.find_elements_by_xpath(\"//li[@class='group sanspro-reg archives-note']/a\")\n",
    "\n",
    "print(len(elem_15))\n",
    "\n",
    "j=2\n",
    "for i in elem_15[0:len(elem_15)]:\n",
    "    act=ActionChains(driver)\n",
    "    act.context_click(i).key_down(Keys.CONTROL).click(i).perform()\n",
    "    \n",
    "    #switiching focus to the new tab\n",
    "    tab_2=driver.window_handles[j+1]         \n",
    "    driver.switch_to.window(tab_2)\n",
    "    \n",
    "    myscrape()\n",
    "\n",
    "driver.close()\n",
    "\n",
    "#checking the lenght of each list\n",
    "print(len(Date),len(Author),len(Vertical),len(Headline),len(Description))\n",
    "\n",
    "#switiching focus to 2015 feb storeies\n",
    "tab_1=driver.window_handles[1]         \n",
    "driver.switch_to.window(tab_1)"
   ]
  },
  {
   "cell_type": "markdown",
   "metadata": {},
   "source": [
    "# Scraping 16th feb 2015 news"
   ]
  },
  {
   "cell_type": "code",
   "execution_count": 19,
   "metadata": {},
   "outputs": [
    {
     "name": "stdout",
     "output_type": "stream",
     "text": [
      "148\n",
      "148 148 148 148 148\n"
     ]
    }
   ],
   "source": [
    "#opening 16th feb news\n",
    "driver.find_element_by_xpath(\"//ul[@class='taxonomy-tree children']/li[16]/a\").click()\n",
    "\n",
    "\n",
    "#switiching focus to the new tab\n",
    "tab_1=driver.window_handles[2]         \n",
    "driver.switch_to.window(tab_1)\n",
    "\n",
    "\n",
    "elem_16=driver.find_elements_by_xpath(\"//li[@class='group sanspro-reg archives-note']/a\")\n",
    "\n",
    "print(len(elem_16))\n",
    "\n",
    "j=2\n",
    "for i in elem_16[0:len(elem_16)]:\n",
    "    act=ActionChains(driver)\n",
    "    act.context_click(i).key_down(Keys.CONTROL).click(i).perform()\n",
    "    \n",
    "    #switiching focus to the new tab\n",
    "    tab_2=driver.window_handles[j+1]         \n",
    "    driver.switch_to.window(tab_2)\n",
    "    \n",
    "    myscrape()\n",
    "\n",
    "driver.close()\n",
    "\n",
    "#checking the lenght of each list\n",
    "print(len(Date),len(Author),len(Vertical),len(Headline),len(Description))\n",
    "\n",
    "#switiching focus to 2015 feb storeies\n",
    "tab_1=driver.window_handles[1]         \n",
    "driver.switch_to.window(tab_1)         \n",
    "driver.switch_to.window(tab_1)\n",
    "\n",
    "\n"
   ]
  },
  {
   "cell_type": "markdown",
   "metadata": {},
   "source": [
    "# Scraping 17th feb 2015 news"
   ]
  },
  {
   "cell_type": "code",
   "execution_count": 29,
   "metadata": {},
   "outputs": [
    {
     "name": "stdout",
     "output_type": "stream",
     "text": [
      "235\n",
      "383 383 383 383 383\n"
     ]
    }
   ],
   "source": [
    "#opening 17th feb news\n",
    "driver.find_element_by_xpath(\"//ul[@class='taxonomy-tree children']/li[17]/a\").click()\n",
    "\n",
    "\n",
    "#switiching focus to the new tab\n",
    "tab_1=driver.window_handles[2]         \n",
    "driver.switch_to.window(tab_1)\n",
    "\n",
    "elem_17=driver.find_elements_by_xpath(\"//li[@class='group sanspro-reg archives-note']/a\")\n",
    "\n",
    "print(len(elem_17))\n",
    "\n",
    "j=2\n",
    "for i in elem_17[0:len(elem_17)]:\n",
    "    act=ActionChains(driver)\n",
    "    act.context_click(i).key_down(Keys.CONTROL).click(i).perform()\n",
    "    \n",
    "    #switiching focus to the new tab\n",
    "    tab_2=driver.window_handles[j+1]         \n",
    "    driver.switch_to.window(tab_2)\n",
    "    \n",
    "    myscrape()\n",
    "\n",
    "driver.close()\n",
    "\n",
    "#checking the lenght of each list\n",
    "print(len(Date),len(Author),len(Vertical),len(Headline),len(Description))\n",
    "\n",
    "#switiching focus to 2015 feb storeies\n",
    "tab_1=driver.window_handles[1]         \n",
    "driver.switch_to.window(tab_1)"
   ]
  },
  {
   "cell_type": "markdown",
   "metadata": {},
   "source": [
    "# Scraping 18th feb 2015 news"
   ]
  },
  {
   "cell_type": "code",
   "execution_count": 30,
   "metadata": {},
   "outputs": [
    {
     "name": "stdout",
     "output_type": "stream",
     "text": [
      "177\n",
      "560 560 560 560 560\n"
     ]
    }
   ],
   "source": [
    "#opening 18th feb news\n",
    "driver.find_element_by_xpath(\"//ul[@class='taxonomy-tree children']/li[18]/a\").click()\n",
    "\n",
    "\n",
    "#switiching focus to the new tab\n",
    "tab_1=driver.window_handles[2]         \n",
    "driver.switch_to.window(tab_1)\n",
    "\n",
    "elem_18=driver.find_elements_by_xpath(\"//li[@class='group sanspro-reg archives-note']/a\")\n",
    "\n",
    "print(len(elem_18))\n",
    "\n",
    "j=2\n",
    "for i in elem_18[0:len(elem_18)]:\n",
    "    act=ActionChains(driver)\n",
    "    act.context_click(i).key_down(Keys.CONTROL).click(i).perform()\n",
    "    \n",
    "    #switiching focus to the new tab\n",
    "    tab_2=driver.window_handles[j+1]         \n",
    "    driver.switch_to.window(tab_2)\n",
    "    \n",
    "    myscrape()\n",
    "\n",
    "driver.close()\n",
    "\n",
    "#checking the lenght of each list\n",
    "print(len(Date),len(Author),len(Vertical),len(Headline),len(Description))\n",
    "\n",
    "#switiching focus to 2015 feb storeies\n",
    "tab_1=driver.window_handles[1]         \n",
    "driver.switch_to.window(tab_1)"
   ]
  },
  {
   "cell_type": "markdown",
   "metadata": {},
   "source": [
    "# Scraping 19th feb 2015 news"
   ]
  },
  {
   "cell_type": "code",
   "execution_count": 31,
   "metadata": {},
   "outputs": [
    {
     "name": "stdout",
     "output_type": "stream",
     "text": [
      "192\n",
      "752 752 752 752 752\n"
     ]
    }
   ],
   "source": [
    "#opening 19th feb news\n",
    "driver.find_element_by_xpath(\"//ul[@class='taxonomy-tree children']/li[19]/a\").click()\n",
    "\n",
    "\n",
    "#switiching focus to the new tab\n",
    "tab_1=driver.window_handles[2]         \n",
    "driver.switch_to.window(tab_1)\n",
    "\n",
    "elem_19=driver.find_elements_by_xpath(\"//li[@class='group sanspro-reg archives-note']/a\")\n",
    "\n",
    "print(len(elem_19))\n",
    "\n",
    "j=2\n",
    "for i in elem_19[0:len(elem_19)]:\n",
    "    act=ActionChains(driver)\n",
    "    act.context_click(i).key_down(Keys.CONTROL).click(i).perform()\n",
    "    \n",
    "    #switiching focus to the new tab\n",
    "    tab_2=driver.window_handles[j+1]         \n",
    "    driver.switch_to.window(tab_2)\n",
    "    \n",
    "    myscrape()\n",
    "\n",
    "driver.close()\n",
    "\n",
    "#checking the lenght of each list\n",
    "print(len(Date),len(Author),len(Vertical),len(Headline),len(Description))\n",
    "\n",
    "#switiching focus to 2015 feb storeies\n",
    "tab_1=driver.window_handles[1]         \n",
    "driver.switch_to.window(tab_1)"
   ]
  },
  {
   "cell_type": "markdown",
   "metadata": {},
   "source": [
    "# Scraping 20th feb 2015 news"
   ]
  },
  {
   "cell_type": "code",
   "execution_count": 32,
   "metadata": {},
   "outputs": [
    {
     "name": "stdout",
     "output_type": "stream",
     "text": [
      "157\n",
      "909 909 909 909 909\n"
     ]
    }
   ],
   "source": [
    "#opening 20th feb news\n",
    "driver.find_element_by_xpath(\"//ul[@class='taxonomy-tree children']/li[20]/a\").click()\n",
    "\n",
    "\n",
    "#switiching focus to the new tab\n",
    "tab_1=driver.window_handles[2]         \n",
    "driver.switch_to.window(tab_1)\n",
    "\n",
    "elem_20=driver.find_elements_by_xpath(\"//li[@class='group sanspro-reg archives-note']/a\")\n",
    "\n",
    "print(len(elem_20))\n",
    "\n",
    "j=2\n",
    "for i in elem_20[0:len(elem_20)]:\n",
    "    act=ActionChains(driver)\n",
    "    act.context_click(i).key_down(Keys.CONTROL).click(i).perform()\n",
    "    \n",
    "    #switiching focus to the new tab\n",
    "    tab_2=driver.window_handles[j+1]         \n",
    "    driver.switch_to.window(tab_2)\n",
    "    \n",
    "    myscrape()\n",
    "\n",
    "driver.close()\n",
    "\n",
    "#checking the lenght of each list\n",
    "print(len(Date),len(Author),len(Vertical),len(Headline),len(Description))\n",
    "\n",
    "#switiching focus to 2015 feb storeies\n",
    "tab_1=driver.window_handles[1]         \n",
    "driver.switch_to.window(tab_1)"
   ]
  },
  {
   "cell_type": "markdown",
   "metadata": {},
   "source": [
    "# Scraping 21st feb 2015 news"
   ]
  },
  {
   "cell_type": "code",
   "execution_count": 33,
   "metadata": {},
   "outputs": [
    {
     "name": "stdout",
     "output_type": "stream",
     "text": [
      "171\n",
      "1080 1080 1080 1080 1080\n"
     ]
    }
   ],
   "source": [
    "#opening 21st feb news\n",
    "driver.find_element_by_xpath(\"//ul[@class='taxonomy-tree children']/li[21]/a\").click()\n",
    "\n",
    "\n",
    "#switiching focus to the new tab\n",
    "tab_1=driver.window_handles[2]         \n",
    "driver.switch_to.window(tab_1)\n",
    "\n",
    "elem_21=driver.find_elements_by_xpath(\"//li[@class='group sanspro-reg archives-note']/a\")\n",
    "\n",
    "print(len(elem_21))\n",
    "\n",
    "j=2\n",
    "for i in elem_21[0:len(elem_21)]:\n",
    "    act=ActionChains(driver)\n",
    "    act.context_click(i).key_down(Keys.CONTROL).click(i).perform()\n",
    "    \n",
    "    #switiching focus to the new tab\n",
    "    tab_2=driver.window_handles[j+1]         \n",
    "    driver.switch_to.window(tab_2)\n",
    "    \n",
    "    myscrape()\n",
    "\n",
    "driver.close()\n",
    "\n",
    "#checking the lenght of each list\n",
    "print(len(Date),len(Author),len(Vertical),len(Headline),len(Description))\n",
    "\n",
    "#switiching focus to 2015 feb storeies\n",
    "tab_1=driver.window_handles[1]         \n",
    "driver.switch_to.window(tab_1)"
   ]
  },
  {
   "cell_type": "markdown",
   "metadata": {},
   "source": [
    "# Scraping 22nd feb 2015 news"
   ]
  },
  {
   "cell_type": "code",
   "execution_count": 34,
   "metadata": {},
   "outputs": [
    {
     "name": "stdout",
     "output_type": "stream",
     "text": [
      "169\n",
      "1249 1249 1249 1249 1249\n"
     ]
    }
   ],
   "source": [
    "#opening 22nd feb news\n",
    "driver.find_element_by_xpath(\"//ul[@class='taxonomy-tree children']/li[22]/a\").click()\n",
    "\n",
    "\n",
    "#switiching focus to the new tab\n",
    "tab_1=driver.window_handles[2]         \n",
    "driver.switch_to.window(tab_1)\n",
    "\n",
    "elem_22=driver.find_elements_by_xpath(\"//li[@class='group sanspro-reg archives-note']/a\")\n",
    "\n",
    "print(len(elem_22))\n",
    "\n",
    "j=2\n",
    "for i in elem_22[0:len(elem_22)]:\n",
    "    act=ActionChains(driver)\n",
    "    act.context_click(i).key_down(Keys.CONTROL).click(i).perform()\n",
    "    \n",
    "    #switiching focus to the new tab\n",
    "    tab_2=driver.window_handles[j+1]         \n",
    "    driver.switch_to.window(tab_2)\n",
    "    \n",
    "    myscrape()\n",
    "\n",
    "driver.close()\n",
    "\n",
    "#checking the lenght of each list\n",
    "print(len(Date),len(Author),len(Vertical),len(Headline),len(Description))\n",
    "\n",
    "#switiching focus to 2015 feb storeies\n",
    "tab_1=driver.window_handles[1]         \n",
    "driver.switch_to.window(tab_1)"
   ]
  },
  {
   "cell_type": "markdown",
   "metadata": {},
   "source": [
    "# Scraping 23rd feb 2015 news"
   ]
  },
  {
   "cell_type": "code",
   "execution_count": 35,
   "metadata": {},
   "outputs": [
    {
     "name": "stdout",
     "output_type": "stream",
     "text": [
      "147\n",
      "1396 1396 1396 1396 1396\n"
     ]
    }
   ],
   "source": [
    "#opening 23rd feb news\n",
    "driver.find_element_by_xpath(\"//ul[@class='taxonomy-tree children']/li[23]/a\").click()\n",
    "\n",
    "\n",
    "#switiching focus to the new tab\n",
    "tab_1=driver.window_handles[2]         \n",
    "driver.switch_to.window(tab_1)\n",
    "\n",
    "elem_23=driver.find_elements_by_xpath(\"//li[@class='group sanspro-reg archives-note']/a\")\n",
    "\n",
    "print(len(elem_23))\n",
    "\n",
    "j=2\n",
    "for i in elem_23[0:len(elem_23)]:\n",
    "    act=ActionChains(driver)\n",
    "    act.context_click(i).key_down(Keys.CONTROL).click(i).perform()\n",
    "    \n",
    "    #switiching focus to the new tab\n",
    "    tab_2=driver.window_handles[j+1]         \n",
    "    driver.switch_to.window(tab_2)\n",
    "    \n",
    "    myscrape()\n",
    "\n",
    "driver.close()\n",
    "\n",
    "#checking the lenght of each list\n",
    "print(len(Date),len(Author),len(Vertical),len(Headline),len(Description))\n",
    "\n",
    "#switiching focus to 2015 feb storeies\n",
    "tab_1=driver.window_handles[1]         \n",
    "driver.switch_to.window(tab_1)"
   ]
  },
  {
   "cell_type": "markdown",
   "metadata": {},
   "source": [
    "# Scraping 24th feb 2015 news"
   ]
  },
  {
   "cell_type": "code",
   "execution_count": 36,
   "metadata": {},
   "outputs": [
    {
     "name": "stdout",
     "output_type": "stream",
     "text": [
      "188\n",
      "1584 1584 1584 1584 1584\n"
     ]
    }
   ],
   "source": [
    "#opening 24th feb news\n",
    "driver.find_element_by_xpath(\"//ul[@class='taxonomy-tree children']/li[24]/a\").click()\n",
    "\n",
    "\n",
    "#switiching focus to the new tab\n",
    "tab_1=driver.window_handles[2]         \n",
    "driver.switch_to.window(tab_1)\n",
    "\n",
    "elem_24=driver.find_elements_by_xpath(\"//li[@class='group sanspro-reg archives-note']/a\")\n",
    "\n",
    "print(len(elem_24))\n",
    "\n",
    "j=2\n",
    "for i in elem_24[0:len(elem_24)]:\n",
    "    act=ActionChains(driver)\n",
    "    act.context_click(i).key_down(Keys.CONTROL).click(i).perform()\n",
    "    \n",
    "    #switiching focus to the new tab\n",
    "    tab_2=driver.window_handles[j+1]         \n",
    "    driver.switch_to.window(tab_2)\n",
    "    \n",
    "    myscrape()\n",
    "\n",
    "driver.close()\n",
    "\n",
    "#checking the lenght of each list\n",
    "print(len(Date),len(Author),len(Vertical),len(Headline),len(Description))\n",
    "\n",
    "#switiching focus to 2015 feb storeies\n",
    "tab_1=driver.window_handles[1]         \n",
    "driver.switch_to.window(tab_1)"
   ]
  },
  {
   "cell_type": "markdown",
   "metadata": {},
   "source": [
    "# Scraping 25th feb 2015 news"
   ]
  },
  {
   "cell_type": "code",
   "execution_count": 40,
   "metadata": {},
   "outputs": [
    {
     "name": "stdout",
     "output_type": "stream",
     "text": [
      "200\n",
      "1783 1782 1783 1782 1782\n"
     ]
    }
   ],
   "source": [
    "#opening 25th feb news\n",
    "driver.find_element_by_xpath(\"//ul[@class='taxonomy-tree children']/li[25]/a\").click()\n",
    "\n",
    "\n",
    "#switiching focus to the new tab\n",
    "tab_1=driver.window_handles[2]         \n",
    "driver.switch_to.window(tab_1)\n",
    "\n",
    "elem_25=driver.find_elements_by_xpath(\"//li[@class='group sanspro-reg archives-note']/a\")\n",
    "\n",
    "print(len(elem_25))\n",
    "\n",
    "j=2\n",
    "for i in elem_25[0:len(elem_25)]:\n",
    "    act=ActionChains(driver)\n",
    "    act.context_click(i).key_down(Keys.CONTROL).click(i).perform()\n",
    "    \n",
    "    #switiching focus to the new tab\n",
    "    tab_2=driver.window_handles[j+1]         \n",
    "    driver.switch_to.window(tab_2)\n",
    "    \n",
    "    myscrape()\n",
    "\n",
    "driver.close()\n",
    "\n",
    "#checking the lenght of each list\n",
    "print(len(Date),len(Author),len(Vertical),len(Headline),len(Description))\n",
    "\n",
    "#switiching focus to 2015 feb storeies\n",
    "tab_1=driver.window_handles[1]         \n",
    "driver.switch_to.window(tab_1)"
   ]
  },
  {
   "cell_type": "markdown",
   "metadata": {},
   "source": [
    "# Scraping 26th feb 2015 news"
   ]
  },
  {
   "cell_type": "code",
   "execution_count": 41,
   "metadata": {},
   "outputs": [
    {
     "name": "stdout",
     "output_type": "stream",
     "text": [
      "128\n",
      "1911 1910 1911 1910 1910\n"
     ]
    }
   ],
   "source": [
    "#opening 26th feb news\n",
    "driver.find_element_by_xpath(\"//ul[@class='taxonomy-tree children']/li[26]/a\").click()\n",
    "\n",
    "\n",
    "#switiching focus to the new tab\n",
    "tab_1=driver.window_handles[2]         \n",
    "driver.switch_to.window(tab_1)\n",
    "\n",
    "elem_26=driver.find_elements_by_xpath(\"//li[@class='group sanspro-reg archives-note']/a\")\n",
    "\n",
    "print(len(elem_26))\n",
    "\n",
    "j=2\n",
    "for i in elem_26[0:len(elem_26)]:\n",
    "    act=ActionChains(driver)\n",
    "    act.context_click(i).key_down(Keys.CONTROL).click(i).perform()\n",
    "    \n",
    "    #switiching focus to the new tab\n",
    "    tab_2=driver.window_handles[j+1]         \n",
    "    driver.switch_to.window(tab_2)\n",
    "    \n",
    "    myscrape()\n",
    "\n",
    "driver.close()\n",
    "\n",
    "#checking the lenght of each list\n",
    "print(len(Date),len(Author),len(Vertical),len(Headline),len(Description))\n",
    "\n",
    "#switiching focus to 2015 feb storeies\n",
    "tab_1=driver.window_handles[1]         \n",
    "driver.switch_to.window(tab_1)"
   ]
  },
  {
   "cell_type": "markdown",
   "metadata": {},
   "source": [
    "# Scraping 27th feb 2015 news"
   ]
  },
  {
   "cell_type": "code",
   "execution_count": 42,
   "metadata": {},
   "outputs": [
    {
     "name": "stdout",
     "output_type": "stream",
     "text": [
      "144\n",
      "2055 2054 2055 2054 2054\n"
     ]
    }
   ],
   "source": [
    "#opening 27th feb news\n",
    "driver.find_element_by_xpath(\"//ul[@class='taxonomy-tree children']/li[27]/a\").click()\n",
    "\n",
    "\n",
    "#switiching focus to the new tab\n",
    "tab_1=driver.window_handles[2]         \n",
    "driver.switch_to.window(tab_1)\n",
    "\n",
    "elem_27=driver.find_elements_by_xpath(\"//li[@class='group sanspro-reg archives-note']/a\")\n",
    "\n",
    "print(len(elem_27))\n",
    "\n",
    "j=2\n",
    "for i in elem_27[0:len(elem_27)]:\n",
    "    act=ActionChains(driver)\n",
    "    act.context_click(i).key_down(Keys.CONTROL).click(i).perform()\n",
    "    \n",
    "    #switiching focus to the new tab\n",
    "    tab_2=driver.window_handles[j+1]         \n",
    "    driver.switch_to.window(tab_2)\n",
    "    \n",
    "    myscrape()\n",
    "\n",
    "driver.close()\n",
    "\n",
    "#checking the lenght of each list\n",
    "print(len(Date),len(Author),len(Vertical),len(Headline),len(Description))\n",
    "\n",
    "#switiching focus to 2015 feb storeies\n",
    "tab_1=driver.window_handles[1]         \n",
    "driver.switch_to.window(tab_1)"
   ]
  },
  {
   "cell_type": "markdown",
   "metadata": {},
   "source": [
    "# Scraping 28th feb 2015 news"
   ]
  },
  {
   "cell_type": "code",
   "execution_count": 19,
   "metadata": {},
   "outputs": [
    {
     "name": "stdout",
     "output_type": "stream",
     "text": [
      "184\n",
      "183 183 183 183 183\n"
     ]
    }
   ],
   "source": [
    "#opening 28th feb news\n",
    "driver.find_element_by_xpath(\"//ul[@class='taxonomy-tree children']/li[28]/a\").click()\n",
    "\n",
    "\n",
    "#switiching focus to the new tab\n",
    "tab_1=driver.window_handles[2]         \n",
    "driver.switch_to.window(tab_1)\n",
    "\n",
    "elem_28=driver.find_elements_by_xpath(\"//li[@class='group sanspro-reg archives-note']/a\")\n",
    "\n",
    "print(len(elem_28))\n",
    "\n",
    "j=2\n",
    "for i in elem_28[0:len(elem_28)]:\n",
    "    act=ActionChains(driver)\n",
    "    act.context_click(i).key_down(Keys.CONTROL).click(i).perform()\n",
    "    \n",
    "    #switiching focus to the new tab\n",
    "    tab_2=driver.window_handles[j+1]         \n",
    "    driver.switch_to.window(tab_2)\n",
    "    \n",
    "    myscrape()\n",
    "\n",
    "driver.close()\n",
    "\n",
    "#checking the lenght of each list\n",
    "print(len(Date),len(Author),len(Vertical),len(Headline),len(Description))\n",
    "\n",
    "#switiching focus to 2015 feb storeies\n",
    "tab_1=driver.window_handles[1]         \n",
    "driver.switch_to.window(tab_1)"
   ]
  },
  {
   "cell_type": "code",
   "execution_count": 25,
   "metadata": {},
   "outputs": [],
   "source": [
    "driver.close()"
   ]
  },
  {
   "cell_type": "code",
   "execution_count": 20,
   "metadata": {},
   "outputs": [],
   "source": [
    "#creating data frame\n",
    "deccan_df=pd.DataFrame({})"
   ]
  },
  {
   "cell_type": "code",
   "execution_count": 21,
   "metadata": {},
   "outputs": [],
   "source": [
    "deccan_df['Date']=Date\n",
    "deccan_df['Author']=Author\n",
    "deccan_df['Vertical']=Vertical\n",
    "deccan_df['Headline']=Headline\n",
    "deccan_df['Description']=Description\n"
   ]
  },
  {
   "cell_type": "code",
   "execution_count": 22,
   "metadata": {
    "scrolled": true
   },
   "outputs": [
    {
     "data": {
      "text/html": [
       "<div>\n",
       "<style scoped>\n",
       "    .dataframe tbody tr th:only-of-type {\n",
       "        vertical-align: middle;\n",
       "    }\n",
       "\n",
       "    .dataframe tbody tr th {\n",
       "        vertical-align: top;\n",
       "    }\n",
       "\n",
       "    .dataframe thead th {\n",
       "        text-align: right;\n",
       "    }\n",
       "</style>\n",
       "<table border=\"1\" class=\"dataframe\">\n",
       "  <thead>\n",
       "    <tr style=\"text-align: right;\">\n",
       "      <th></th>\n",
       "      <th>Date</th>\n",
       "      <th>Author</th>\n",
       "      <th>Vertical</th>\n",
       "      <th>Headline</th>\n",
       "      <th>Description</th>\n",
       "    </tr>\n",
       "  </thead>\n",
       "  <tbody>\n",
       "    <tr>\n",
       "      <th>0</th>\n",
       "      <td>FEB 28 2015</td>\n",
       "      <td>Perth, Feb 28, 2015, (PTI),</td>\n",
       "      <td>Archives</td>\n",
       "      <td>India bundle out UAE for 102</td>\n",
       "      <td>-</td>\n",
       "    </tr>\n",
       "    <tr>\n",
       "      <th>1</th>\n",
       "      <td>FEB 28 2015</td>\n",
       "      <td>Perth, Feb 28, 2015 (PTI),</td>\n",
       "      <td>Archives</td>\n",
       "      <td>We were outplayed by Indian bowling, says UAE ...</td>\n",
       "      <td>United Arab Emirates captain Mohammad Tauqir a...</td>\n",
       "    </tr>\n",
       "    <tr>\n",
       "      <th>2</th>\n",
       "      <td>FEB 28 2015</td>\n",
       "      <td>Madhu Jawali, March 1, 2015, DHNS,</td>\n",
       "      <td>Archives</td>\n",
       "      <td>Bowlers in spotlight</td>\n",
       "      <td>-</td>\n",
       "    </tr>\n",
       "    <tr>\n",
       "      <th>3</th>\n",
       "      <td>FEB 28 2015</td>\n",
       "      <td>NEW DELHI: Feb 28, 2015, DH News Service,</td>\n",
       "      <td>Business</td>\n",
       "      <td>Telecom sector registers rapid growth; farm se...</td>\n",
       "      <td>With the increasing telephone and broadband co...</td>\n",
       "    </tr>\n",
       "    <tr>\n",
       "      <th>4</th>\n",
       "      <td>FEB 28 2015</td>\n",
       "      <td>Bengaluru: Feb 28, 2015, DHNS,</td>\n",
       "      <td>Business</td>\n",
       "      <td>Budget FY16, end of indirect taxes?</td>\n",
       "      <td>If the goods and services taxes (GST) were to ...</td>\n",
       "    </tr>\n",
       "    <tr>\n",
       "      <th>...</th>\n",
       "      <td>...</td>\n",
       "      <td>...</td>\n",
       "      <td>...</td>\n",
       "      <td>...</td>\n",
       "      <td>...</td>\n",
       "    </tr>\n",
       "    <tr>\n",
       "      <th>178</th>\n",
       "      <td>FEB 28 2015</td>\n",
       "      <td>Arefa Tehsin, March 1, 2015, DHNS,</td>\n",
       "      <td>Archives</td>\n",
       "      <td>Mountains beckon</td>\n",
       "      <td>“The cure for anything is salt water — sweat, ...</td>\n",
       "    </tr>\n",
       "    <tr>\n",
       "      <th>179</th>\n",
       "      <td>FEB 28 2015</td>\n",
       "      <td>Yoginder Sikand, March 1, 2015, DHNS,</td>\n",
       "      <td>Archives</td>\n",
       "      <td>Charms of Cairo</td>\n",
       "      <td>Cairo, many people imagine, is simply where th...</td>\n",
       "    </tr>\n",
       "    <tr>\n",
       "      <th>180</th>\n",
       "      <td>FEB 28 2015</td>\n",
       "      <td>Sukumar Muralidharan, March 1, 2015, DHNS,</td>\n",
       "      <td>Specials</td>\n",
       "      <td>Does growth lead to political success?</td>\n",
       "      <td>Practitioners of the art of divining budgetary...</td>\n",
       "    </tr>\n",
       "    <tr>\n",
       "      <th>181</th>\n",
       "      <td>FEB 28 2015</td>\n",
       "      <td>Dr Subir Gokarn, March 1, 2015, DHNS,</td>\n",
       "      <td>Specials</td>\n",
       "      <td>'This Budget has provided vision and resources'</td>\n",
       "      <td>Dr Subir Gokarn, Director of Research at the B...</td>\n",
       "    </tr>\n",
       "    <tr>\n",
       "      <th>182</th>\n",
       "      <td>FEB 28 2015</td>\n",
       "      <td>Shreekant Sambrani, March 1, 2015, DHNS,</td>\n",
       "      <td>Specials</td>\n",
       "      <td>Trailer to achchhe din?</td>\n",
       "      <td>India always makes a grand spectacle of a Budg...</td>\n",
       "    </tr>\n",
       "  </tbody>\n",
       "</table>\n",
       "<p>183 rows × 5 columns</p>\n",
       "</div>"
      ],
      "text/plain": [
       "            Date                                      Author  Vertical  \\\n",
       "0    FEB 28 2015                 Perth, Feb 28, 2015, (PTI),  Archives   \n",
       "1    FEB 28 2015                  Perth, Feb 28, 2015 (PTI),  Archives   \n",
       "2    FEB 28 2015          Madhu Jawali, March 1, 2015, DHNS,  Archives   \n",
       "3    FEB 28 2015   NEW DELHI: Feb 28, 2015, DH News Service,  Business   \n",
       "4    FEB 28 2015              Bengaluru: Feb 28, 2015, DHNS,  Business   \n",
       "..           ...                                         ...       ...   \n",
       "178  FEB 28 2015          Arefa Tehsin, March 1, 2015, DHNS,  Archives   \n",
       "179  FEB 28 2015       Yoginder Sikand, March 1, 2015, DHNS,  Archives   \n",
       "180  FEB 28 2015  Sukumar Muralidharan, March 1, 2015, DHNS,  Specials   \n",
       "181  FEB 28 2015       Dr Subir Gokarn, March 1, 2015, DHNS,  Specials   \n",
       "182  FEB 28 2015    Shreekant Sambrani, March 1, 2015, DHNS,  Specials   \n",
       "\n",
       "                                              Headline  \\\n",
       "0                         India bundle out UAE for 102   \n",
       "1    We were outplayed by Indian bowling, says UAE ...   \n",
       "2                                 Bowlers in spotlight   \n",
       "3    Telecom sector registers rapid growth; farm se...   \n",
       "4                  Budget FY16, end of indirect taxes?   \n",
       "..                                                 ...   \n",
       "178                                   Mountains beckon   \n",
       "179                                    Charms of Cairo   \n",
       "180             Does growth lead to political success?   \n",
       "181    'This Budget has provided vision and resources'   \n",
       "182                            Trailer to achchhe din?   \n",
       "\n",
       "                                           Description  \n",
       "0                                                    -  \n",
       "1    United Arab Emirates captain Mohammad Tauqir a...  \n",
       "2                                                    -  \n",
       "3    With the increasing telephone and broadband co...  \n",
       "4    If the goods and services taxes (GST) were to ...  \n",
       "..                                                 ...  \n",
       "178  “The cure for anything is salt water — sweat, ...  \n",
       "179  Cairo, many people imagine, is simply where th...  \n",
       "180  Practitioners of the art of divining budgetary...  \n",
       "181  Dr Subir Gokarn, Director of Research at the B...  \n",
       "182  India always makes a grand spectacle of a Budg...  \n",
       "\n",
       "[183 rows x 5 columns]"
      ]
     },
     "execution_count": 22,
     "metadata": {},
     "output_type": "execute_result"
    }
   ],
   "source": [
    "deccan_df"
   ]
  },
  {
   "cell_type": "code",
   "execution_count": 23,
   "metadata": {},
   "outputs": [],
   "source": [
    "deccan_df.to_csv('Deccan3_.csv')"
   ]
  },
  {
   "cell_type": "code",
   "execution_count": null,
   "metadata": {},
   "outputs": [],
   "source": []
  }
 ],
 "metadata": {
  "kernelspec": {
   "display_name": "Python 3",
   "language": "python",
   "name": "python3"
  },
  "language_info": {
   "codemirror_mode": {
    "name": "ipython",
    "version": 3
   },
   "file_extension": ".py",
   "mimetype": "text/x-python",
   "name": "python",
   "nbconvert_exporter": "python",
   "pygments_lexer": "ipython3",
   "version": "3.8.5"
  }
 },
 "nbformat": 4,
 "nbformat_minor": 4
}
